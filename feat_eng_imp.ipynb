{
  "metadata": {
    "kernelspec": {
      "display_name": "Python 3",
      "language": "python",
      "name": "python3"
    },
    "language_info": {
      "name": "python",
      "version": "3.6.4",
      "mimetype": "text/x-python",
      "codemirror_mode": {
        "name": "ipython",
        "version": 3
      },
      "pygments_lexer": "ipython3",
      "nbconvert_exporter": "python",
      "file_extension": ".py"
    },
    "kaggle": {
      "accelerator": "none",
      "dataSources": [
        {
          "sourceId": 8540,
          "databundleVersionId": 862041,
          "sourceType": "competition"
        }
      ],
      "dockerImageVersionId": 648,
      "isInternetEnabled": false,
      "language": "python",
      "sourceType": "notebook",
      "isGpuEnabled": false
    },
    "colab": {
      "provenance": []
    }
  },
  "nbformat_minor": 0,
  "nbformat": 4,
  "cells": [
    {
      "cell_type": "markdown",
      "source": [
        "# Feature Engineering & Importance Testing\n",
        "\n",
        "# 1. Loading data"
      ],
      "metadata": {
        "_cell_guid": "b1076dfc-b9ad-4769-8c92-a6c4dae69d19",
        "_uuid": "8f2839f25d086af736a60e9eeb907d3b93b6e0e5",
        "id": "x_7z2OvnOc9c"
      }
    },
    {
      "cell_type": "code",
      "source": [
        "import gc\n",
        "import numpy as np\n",
        "import pandas as pd\n",
        "import matplotlib.pyplot as plt\n",
        "\n",
        "# Load subset of the training data\n",
        "X_train = pd.read_csv('../input/train.csv', nrows=1000000, parse_dates=['click_time'])\n",
        "\n",
        "# Show the head of the table\n",
        "X_train.head()"
      ],
      "metadata": {
        "_cell_guid": "79c7e3d0-c299-4dcb-8224-4455121ee9b0",
        "_uuid": "d629ff2d2480ee46fbb7e2d37f6b5fab8052498a",
        "execution": {
          "iopub.status.busy": "2023-12-22T00:52:36.611295Z",
          "iopub.execute_input": "2023-12-22T00:52:36.612057Z",
          "iopub.status.idle": "2023-12-22T00:52:38.750297Z",
          "shell.execute_reply.started": "2023-12-22T00:52:36.611985Z",
          "shell.execute_reply": "2023-12-22T00:52:38.749625Z"
        },
        "trusted": true,
        "id": "GhPlFUIdOc9d",
        "outputId": "1d7cb7fa-2ca6-4924-a4dc-381e152a6284"
      },
      "execution_count": null,
      "outputs": [
        {
          "execution_count": 1,
          "output_type": "execute_result",
          "data": {
            "text/plain": "       ip  app  device  os  channel          click_time attributed_time  \\\n0   83230    3       1  13      379 2017-11-06 14:32:21             NaN   \n1   17357    3       1  19      379 2017-11-06 14:33:34             NaN   \n2   35810    3       1  13      379 2017-11-06 14:34:12             NaN   \n3   45745   14       1  13      478 2017-11-06 14:34:52             NaN   \n4  161007    3       1  13      379 2017-11-06 14:35:08             NaN   \n\n   is_attributed  \n0              0  \n1              0  \n2              0  \n3              0  \n4              0  ",
            "text/html": "<div>\n<style scoped>\n    .dataframe tbody tr th:only-of-type {\n        vertical-align: middle;\n    }\n\n    .dataframe tbody tr th {\n        vertical-align: top;\n    }\n\n    .dataframe thead th {\n        text-align: right;\n    }\n</style>\n<table border=\"1\" class=\"dataframe\">\n  <thead>\n    <tr style=\"text-align: right;\">\n      <th></th>\n      <th>ip</th>\n      <th>app</th>\n      <th>device</th>\n      <th>os</th>\n      <th>channel</th>\n      <th>click_time</th>\n      <th>attributed_time</th>\n      <th>is_attributed</th>\n    </tr>\n  </thead>\n  <tbody>\n    <tr>\n      <th>0</th>\n      <td>83230</td>\n      <td>3</td>\n      <td>1</td>\n      <td>13</td>\n      <td>379</td>\n      <td>2017-11-06 14:32:21</td>\n      <td>NaN</td>\n      <td>0</td>\n    </tr>\n    <tr>\n      <th>1</th>\n      <td>17357</td>\n      <td>3</td>\n      <td>1</td>\n      <td>19</td>\n      <td>379</td>\n      <td>2017-11-06 14:33:34</td>\n      <td>NaN</td>\n      <td>0</td>\n    </tr>\n    <tr>\n      <th>2</th>\n      <td>35810</td>\n      <td>3</td>\n      <td>1</td>\n      <td>13</td>\n      <td>379</td>\n      <td>2017-11-06 14:34:12</td>\n      <td>NaN</td>\n      <td>0</td>\n    </tr>\n    <tr>\n      <th>3</th>\n      <td>45745</td>\n      <td>14</td>\n      <td>1</td>\n      <td>13</td>\n      <td>478</td>\n      <td>2017-11-06 14:34:52</td>\n      <td>NaN</td>\n      <td>0</td>\n    </tr>\n    <tr>\n      <th>4</th>\n      <td>161007</td>\n      <td>3</td>\n      <td>1</td>\n      <td>13</td>\n      <td>379</td>\n      <td>2017-11-06 14:35:08</td>\n      <td>NaN</td>\n      <td>0</td>\n    </tr>\n  </tbody>\n</table>\n</div>"
          },
          "metadata": {}
        }
      ]
    },
    {
      "cell_type": "markdown",
      "source": [
        "# 2. Creating Features\n",
        "## 2.1 Extracting time information\n",
        "First extract day, minute, hour, second from the click_time."
      ],
      "metadata": {
        "_cell_guid": "475ba02d-4512-42ce-993c-cebdd238ee65",
        "_uuid": "f62aefd5ab8c508cdc6b4ab5086f2c2de918e835",
        "id": "Hzs6Vhl1Oc9e"
      }
    },
    {
      "cell_type": "code",
      "source": [
        "X_train['day'] = X_train['click_time'].dt.day.astype('uint8')\n",
        "X_train['hour'] = X_train['click_time'].dt.hour.astype('uint8')\n",
        "X_train['minute'] = X_train['click_time'].dt.minute.astype('uint8')\n",
        "X_train['second'] = X_train['click_time'].dt.second.astype('uint8')\n",
        "X_train.head()"
      ],
      "metadata": {
        "_cell_guid": "0201e666-e9c8-4f47-93e6-f10c6403c485",
        "_uuid": "d4182f8bc9ffcb1f74986daa20160f677bd5f7c5",
        "execution": {
          "iopub.status.busy": "2023-12-22T00:52:38.751337Z",
          "iopub.execute_input": "2023-12-22T00:52:38.751785Z",
          "iopub.status.idle": "2023-12-22T00:52:38.968699Z",
          "shell.execute_reply.started": "2023-12-22T00:52:38.751739Z",
          "shell.execute_reply": "2023-12-22T00:52:38.967912Z"
        },
        "trusted": true,
        "id": "avcVgDxgOc9e",
        "outputId": "cf23ba93-e614-4713-bf55-3ed68d57f6da"
      },
      "execution_count": null,
      "outputs": [
        {
          "execution_count": 2,
          "output_type": "execute_result",
          "data": {
            "text/plain": "       ip  app  device  os  channel          click_time attributed_time  \\\n0   83230    3       1  13      379 2017-11-06 14:32:21             NaN   \n1   17357    3       1  19      379 2017-11-06 14:33:34             NaN   \n2   35810    3       1  13      379 2017-11-06 14:34:12             NaN   \n3   45745   14       1  13      478 2017-11-06 14:34:52             NaN   \n4  161007    3       1  13      379 2017-11-06 14:35:08             NaN   \n\n   is_attributed  day  hour  minute  second  \n0              0    6    14      32      21  \n1              0    6    14      33      34  \n2              0    6    14      34      12  \n3              0    6    14      34      52  \n4              0    6    14      35       8  ",
            "text/html": "<div>\n<style scoped>\n    .dataframe tbody tr th:only-of-type {\n        vertical-align: middle;\n    }\n\n    .dataframe tbody tr th {\n        vertical-align: top;\n    }\n\n    .dataframe thead th {\n        text-align: right;\n    }\n</style>\n<table border=\"1\" class=\"dataframe\">\n  <thead>\n    <tr style=\"text-align: right;\">\n      <th></th>\n      <th>ip</th>\n      <th>app</th>\n      <th>device</th>\n      <th>os</th>\n      <th>channel</th>\n      <th>click_time</th>\n      <th>attributed_time</th>\n      <th>is_attributed</th>\n      <th>day</th>\n      <th>hour</th>\n      <th>minute</th>\n      <th>second</th>\n    </tr>\n  </thead>\n  <tbody>\n    <tr>\n      <th>0</th>\n      <td>83230</td>\n      <td>3</td>\n      <td>1</td>\n      <td>13</td>\n      <td>379</td>\n      <td>2017-11-06 14:32:21</td>\n      <td>NaN</td>\n      <td>0</td>\n      <td>6</td>\n      <td>14</td>\n      <td>32</td>\n      <td>21</td>\n    </tr>\n    <tr>\n      <th>1</th>\n      <td>17357</td>\n      <td>3</td>\n      <td>1</td>\n      <td>19</td>\n      <td>379</td>\n      <td>2017-11-06 14:33:34</td>\n      <td>NaN</td>\n      <td>0</td>\n      <td>6</td>\n      <td>14</td>\n      <td>33</td>\n      <td>34</td>\n    </tr>\n    <tr>\n      <th>2</th>\n      <td>35810</td>\n      <td>3</td>\n      <td>1</td>\n      <td>13</td>\n      <td>379</td>\n      <td>2017-11-06 14:34:12</td>\n      <td>NaN</td>\n      <td>0</td>\n      <td>6</td>\n      <td>14</td>\n      <td>34</td>\n      <td>12</td>\n    </tr>\n    <tr>\n      <th>3</th>\n      <td>45745</td>\n      <td>14</td>\n      <td>1</td>\n      <td>13</td>\n      <td>478</td>\n      <td>2017-11-06 14:34:52</td>\n      <td>NaN</td>\n      <td>0</td>\n      <td>6</td>\n      <td>14</td>\n      <td>34</td>\n      <td>52</td>\n    </tr>\n    <tr>\n      <th>4</th>\n      <td>161007</td>\n      <td>3</td>\n      <td>1</td>\n      <td>13</td>\n      <td>379</td>\n      <td>2017-11-06 14:35:08</td>\n      <td>NaN</td>\n      <td>0</td>\n      <td>6</td>\n      <td>14</td>\n      <td>35</td>\n      <td>8</td>\n    </tr>\n  </tbody>\n</table>\n</div>"
          },
          "metadata": {}
        }
      ]
    },
    {
      "cell_type": "markdown",
      "source": [
        "## 2.2. Confidence Rates for is_attributed\n",
        "Calculating the \"attributed rates\":\n",
        "\n",
        "\\begin{equation}\n",
        "\\text{P}\\,\\text{(is_attributed}\\,\\,|\\,\\,\\text{category)}\n",
        "\\end{equation}\n",
        "\n",
        "or in some cases two- or multiple-paired combinations:\n",
        "\n",
        "\\begin{equation}\n",
        "\\text{P}\\,\\text{(is_attributed}\\,\\,|\\,\\,\\text{category_1, category_2)}\n",
        "\\end{equation}\n",
        "\n",
        "The danger of this is that if a given category-combination has very few clicks, then the statistical significance of above equations cannot be trusted. Therefore, weighing the rates by the following confidence rates:\n",
        "\n",
        "\\begin{equation}\n",
        "    \\text{conf}_{\\text{is_attributed}} = \\frac{\\log(\\text{views}_{\\text{category_1}})}{\\log(100000)}\n",
        "\\end{equation}\n",
        "\n",
        "where the value 100000 has been chosen arbitrarily to such that if a given category has 1000 views, then it gets a confidence weight of 60%, if it has 100 views then onfly a confidence weight of 40% etc."
      ],
      "metadata": {
        "_cell_guid": "482455d5-6ad9-4451-8958-9c9311c5cae1",
        "_uuid": "e8d07f262debbb02a2c2c65b1d2f4ae40cc81f9a",
        "id": "Q00ajxaxOc9e"
      }
    },
    {
      "cell_type": "code",
      "source": [
        "ATTRIBUTION_CATEGORIES = [\n",
        "    ['ip'], ['app'], ['device'], ['os'], ['channel'],\n",
        "    ['app', 'channel'],\n",
        "    ['app', 'os'],\n",
        "    ['app', 'device'],\n",
        "    ['channel', 'os'],\n",
        "    ['channel', 'device'],\n",
        "    ['os', 'device']\n",
        "]\n",
        "\n",
        "\n",
        "# Find frequency of is_attributed for each unique value in column\n",
        "freqs = {}\n",
        "for cols in ATTRIBUTION_CATEGORIES:\n",
        "\n",
        "    # New feature name\n",
        "    new_feature = '_'.join(cols)+'_confRate'\n",
        "\n",
        "    # Perform the groupby\n",
        "    group_object = X_train.groupby(cols)\n",
        "\n",
        "    # Group sizes\n",
        "    group_sizes = group_object.size()\n",
        "    log_group = np.log(100000) # 1000 views -> 60% confidence, 100 views -> 40% confidence\n",
        "    print(\">> Calculating confidence-weighted rate for: {}.\\n   Saving to: {}. Group Max /Mean / Median / Min: {} / {} / {} / {}\".format(\n",
        "        cols, new_feature,\n",
        "        group_sizes.max(),\n",
        "        np.round(group_sizes.mean(), 2),\n",
        "        np.round(group_sizes.median(), 2),\n",
        "        group_sizes.min()\n",
        "    ))\n",
        "\n",
        "    # Aggregation function\n",
        "    def rate_calculation(x):\n",
        "        \"\"\"Calculate the attributed rate. Scale by confidence\"\"\"\n",
        "        rate = x.sum() / float(x.count())\n",
        "        conf = np.min([1, np.log(x.count()) / log_group])\n",
        "        return rate * conf\n",
        "\n",
        "    # Perform the merge\n",
        "    X_train = X_train.merge(\n",
        "        group_object['is_attributed']. \\\n",
        "            apply(rate_calculation). \\\n",
        "            reset_index(). \\\n",
        "            rename(\n",
        "                index=str,\n",
        "                columns={'is_attributed': new_feature}\n",
        "            )[cols + [new_feature]],\n",
        "        on=cols, how='left'\n",
        "    )\n",
        "\n",
        "X_train.head()"
      ],
      "metadata": {
        "_cell_guid": "abaf5be7-37f1-4fb2-8961-5124f6a91540",
        "_uuid": "8e8a17ae2959795f797caa30344e44e257373430",
        "execution": {
          "iopub.status.busy": "2023-12-22T00:52:38.969979Z",
          "iopub.execute_input": "2023-12-22T00:52:38.970512Z",
          "iopub.status.idle": "2023-12-22T00:52:56.561101Z",
          "shell.execute_reply.started": "2023-12-22T00:52:38.970463Z",
          "shell.execute_reply": "2023-12-22T00:52:56.560176Z"
        },
        "trusted": true,
        "id": "6G8pEt81Oc9e",
        "outputId": "6a0dfa07-31ea-4189-f957-aea4226e7e30"
      },
      "execution_count": null,
      "outputs": [
        {
          "name": "stdout",
          "text": ">> Calculating confidence-weighted rate for: ['ip'].\n   Saving to: ip_confRate. Group Max /Mean / Median / Min: 6437 / 25.25 / 10.0 / 1\n>> Calculating confidence-weighted rate for: ['app'].\n   Saving to: app_confRate. Group Max /Mean / Median / Min: 141851 / 4672.9 / 12.0 / 1\n>> Calculating confidence-weighted rate for: ['device'].\n   Saving to: device_confRate. Group Max /Mean / Median / Min: 938053 / 3355.7 / 1.0 / 1\n>> Calculating confidence-weighted rate for: ['os'].\n   Saving to: os_confRate. Group Max /Mean / Median / Min: 239642 / 6250.0 / 38.0 / 1\n>> Calculating confidence-weighted rate for: ['channel'].\n   Saving to: channel_confRate. Group Max /Mean / Median / Min: 92534 / 6493.51 / 1200.0 / 1\n>> Calculating confidence-weighted rate for: ['app', 'channel'].\n   Saving to: app_channel_confRate. Group Max /Mean / Median / Min: 61413 / 1915.71 / 18.0 / 1\n>> Calculating confidence-weighted rate for: ['app', 'os'].\n   Saving to: app_os_confRate. Group Max /Mean / Median / Min: 34853 / 352.24 / 8.0 / 1\n>> Calculating confidence-weighted rate for: ['app', 'device'].\n   Saving to: app_device_confRate. Group Max /Mean / Median / Min: 134290 / 1342.28 / 2.0 / 1\n>> Calculating confidence-weighted rate for: ['channel', 'os'].\n   Saving to: channel_os_confRate. Group Max /Mean / Median / Min: 22462 / 174.76 / 15.0 / 1\n>> Calculating confidence-weighted rate for: ['channel', 'device'].\n   Saving to: channel_device_confRate. Group Max /Mean / Median / Min: 87519 / 1300.39 / 3.0 / 1\n>> Calculating confidence-weighted rate for: ['os', 'device'].\n   Saving to: os_device_confRate. Group Max /Mean / Median / Min: 233133 / 1721.17 / 3.0 / 1\n",
          "output_type": "stream"
        },
        {
          "execution_count": 3,
          "output_type": "execute_result",
          "data": {
            "text/plain": "       ip  app  device  os  channel          click_time attributed_time  \\\n0   83230    3       1  13      379 2017-11-06 14:32:21             NaN   \n1   17357    3       1  19      379 2017-11-06 14:33:34             NaN   \n2   35810    3       1  13      379 2017-11-06 14:34:12             NaN   \n3   45745   14       1  13      478 2017-11-06 14:34:52             NaN   \n4  161007    3       1  13      379 2017-11-06 14:35:08             NaN   \n\n   is_attributed  day  hour         ...          app_confRate  \\\n0              0    6    14         ...              0.000446   \n1              0    6    14         ...              0.000446   \n2              0    6    14         ...              0.000446   \n3              0    6    14         ...              0.000431   \n4              0    6    14         ...              0.000446   \n\n   device_confRate  os_confRate  channel_confRate  app_channel_confRate  \\\n0         0.001193     0.001146          0.000497              0.000360   \n1         0.001193     0.001394          0.000497              0.000360   \n2         0.001193     0.001146          0.000497              0.000360   \n3         0.001193     0.001146          0.004071              0.004164   \n4         0.001193     0.001146          0.000497              0.000360   \n\n   app_os_confRate  app_device_confRate  channel_os_confRate  \\\n0         0.000366             0.000444             0.000000   \n1         0.000275             0.000444             0.000235   \n2         0.000366             0.000444             0.000000   \n3         0.000201             0.000445             0.001835   \n4         0.000366             0.000444             0.000000   \n\n   channel_device_confRate  os_device_confRate  \n0                 0.000499            0.001182  \n1                 0.000499            0.001428  \n2                 0.000499            0.001182  \n3                 0.004109            0.001182  \n4                 0.000499            0.001182  \n\n[5 rows x 23 columns]",
            "text/html": "<div>\n<style scoped>\n    .dataframe tbody tr th:only-of-type {\n        vertical-align: middle;\n    }\n\n    .dataframe tbody tr th {\n        vertical-align: top;\n    }\n\n    .dataframe thead th {\n        text-align: right;\n    }\n</style>\n<table border=\"1\" class=\"dataframe\">\n  <thead>\n    <tr style=\"text-align: right;\">\n      <th></th>\n      <th>ip</th>\n      <th>app</th>\n      <th>device</th>\n      <th>os</th>\n      <th>channel</th>\n      <th>click_time</th>\n      <th>attributed_time</th>\n      <th>is_attributed</th>\n      <th>day</th>\n      <th>hour</th>\n      <th>...</th>\n      <th>app_confRate</th>\n      <th>device_confRate</th>\n      <th>os_confRate</th>\n      <th>channel_confRate</th>\n      <th>app_channel_confRate</th>\n      <th>app_os_confRate</th>\n      <th>app_device_confRate</th>\n      <th>channel_os_confRate</th>\n      <th>channel_device_confRate</th>\n      <th>os_device_confRate</th>\n    </tr>\n  </thead>\n  <tbody>\n    <tr>\n      <th>0</th>\n      <td>83230</td>\n      <td>3</td>\n      <td>1</td>\n      <td>13</td>\n      <td>379</td>\n      <td>2017-11-06 14:32:21</td>\n      <td>NaN</td>\n      <td>0</td>\n      <td>6</td>\n      <td>14</td>\n      <td>...</td>\n      <td>0.000446</td>\n      <td>0.001193</td>\n      <td>0.001146</td>\n      <td>0.000497</td>\n      <td>0.000360</td>\n      <td>0.000366</td>\n      <td>0.000444</td>\n      <td>0.000000</td>\n      <td>0.000499</td>\n      <td>0.001182</td>\n    </tr>\n    <tr>\n      <th>1</th>\n      <td>17357</td>\n      <td>3</td>\n      <td>1</td>\n      <td>19</td>\n      <td>379</td>\n      <td>2017-11-06 14:33:34</td>\n      <td>NaN</td>\n      <td>0</td>\n      <td>6</td>\n      <td>14</td>\n      <td>...</td>\n      <td>0.000446</td>\n      <td>0.001193</td>\n      <td>0.001394</td>\n      <td>0.000497</td>\n      <td>0.000360</td>\n      <td>0.000275</td>\n      <td>0.000444</td>\n      <td>0.000235</td>\n      <td>0.000499</td>\n      <td>0.001428</td>\n    </tr>\n    <tr>\n      <th>2</th>\n      <td>35810</td>\n      <td>3</td>\n      <td>1</td>\n      <td>13</td>\n      <td>379</td>\n      <td>2017-11-06 14:34:12</td>\n      <td>NaN</td>\n      <td>0</td>\n      <td>6</td>\n      <td>14</td>\n      <td>...</td>\n      <td>0.000446</td>\n      <td>0.001193</td>\n      <td>0.001146</td>\n      <td>0.000497</td>\n      <td>0.000360</td>\n      <td>0.000366</td>\n      <td>0.000444</td>\n      <td>0.000000</td>\n      <td>0.000499</td>\n      <td>0.001182</td>\n    </tr>\n    <tr>\n      <th>3</th>\n      <td>45745</td>\n      <td>14</td>\n      <td>1</td>\n      <td>13</td>\n      <td>478</td>\n      <td>2017-11-06 14:34:52</td>\n      <td>NaN</td>\n      <td>0</td>\n      <td>6</td>\n      <td>14</td>\n      <td>...</td>\n      <td>0.000431</td>\n      <td>0.001193</td>\n      <td>0.001146</td>\n      <td>0.004071</td>\n      <td>0.004164</td>\n      <td>0.000201</td>\n      <td>0.000445</td>\n      <td>0.001835</td>\n      <td>0.004109</td>\n      <td>0.001182</td>\n    </tr>\n    <tr>\n      <th>4</th>\n      <td>161007</td>\n      <td>3</td>\n      <td>1</td>\n      <td>13</td>\n      <td>379</td>\n      <td>2017-11-06 14:35:08</td>\n      <td>NaN</td>\n      <td>0</td>\n      <td>6</td>\n      <td>14</td>\n      <td>...</td>\n      <td>0.000446</td>\n      <td>0.001193</td>\n      <td>0.001146</td>\n      <td>0.000497</td>\n      <td>0.000360</td>\n      <td>0.000366</td>\n      <td>0.000444</td>\n      <td>0.000000</td>\n      <td>0.000499</td>\n      <td>0.001182</td>\n    </tr>\n  </tbody>\n</table>\n<p>5 rows × 23 columns</p>\n</div>"
          },
          "metadata": {}
        }
      ]
    },
    {
      "cell_type": "markdown",
      "source": [
        "## 2.3. Group-By-Aggregation"
      ],
      "metadata": {
        "_cell_guid": "e6a2afd4-9457-4b11-a881-1e3b836d7ed2",
        "_uuid": "5d76202d193849034a12a165674f2d722cdaaaba",
        "id": "wUVEWU0_Oc9f"
      }
    },
    {
      "cell_type": "code",
      "source": [
        "# Define all the groupby transformations\n",
        "GROUPBY_AGGREGATIONS = [\n",
        "\n",
        "    # V1 - GroupBy Features #\n",
        "    #########################\n",
        "    # Variance in day, for ip-app-channel\n",
        "    {'groupby': ['ip','app','channel'], 'select': 'day', 'agg': 'var'},\n",
        "    # Variance in hour, for ip-app-os\n",
        "    {'groupby': ['ip','app','os'], 'select': 'hour', 'agg': 'var'},\n",
        "    # Variance in hour, for ip-day-channel\n",
        "    {'groupby': ['ip','day','channel'], 'select': 'hour', 'agg': 'var'},\n",
        "    # Count, for ip-day-hour\n",
        "    {'groupby': ['ip','day','hour'], 'select': 'channel', 'agg': 'count'},\n",
        "    # Count, for ip-app\n",
        "    {'groupby': ['ip', 'app'], 'select': 'channel', 'agg': 'count'},\n",
        "    # Count, for ip-app-os\n",
        "    {'groupby': ['ip', 'app', 'os'], 'select': 'channel', 'agg': 'count'},\n",
        "    # Count, for ip-app-day-hour\n",
        "    {'groupby': ['ip','app','day','hour'], 'select': 'channel', 'agg': 'count'},\n",
        "    # Mean hour, for ip-app-channel\n",
        "    {'groupby': ['ip','app','channel'], 'select': 'hour', 'agg': 'mean'},\n",
        "\n",
        "    # V2 - GroupBy Features #\n",
        "    #########################\n",
        "    # Average clicks on app by distinct users; is it an app they return to?\n",
        "    {'groupby': ['app'],\n",
        "     'select': 'ip',\n",
        "     'agg': lambda x: float(len(x)) / len(x.unique()),\n",
        "     'agg_name': 'AvgViewPerDistinct'\n",
        "    },\n",
        "    # How popular is the app or channel?\n",
        "    {'groupby': ['app'], 'select': 'channel', 'agg': 'count'},\n",
        "    {'groupby': ['channel'], 'select': 'app', 'agg': 'count'},\n",
        "\n",
        "    # V3 - GroupBy Features                                              #\n",
        "    # https://www.kaggle.com/bk0000/non-blending-lightgbm-model-lb-0-977 #\n",
        "    ######################################################################\n",
        "    {'groupby': ['ip'], 'select': 'channel', 'agg': 'nunique'},\n",
        "    {'groupby': ['ip'], 'select': 'app', 'agg': 'nunique'},\n",
        "    {'groupby': ['ip','day'], 'select': 'hour', 'agg': 'nunique'},\n",
        "    {'groupby': ['ip','app'], 'select': 'os', 'agg': 'nunique'},\n",
        "    {'groupby': ['ip'], 'select': 'device', 'agg': 'nunique'},\n",
        "    {'groupby': ['app'], 'select': 'channel', 'agg': 'nunique'},\n",
        "    {'groupby': ['ip', 'device', 'os'], 'select': 'app', 'agg': 'nunique'},\n",
        "    {'groupby': ['ip','device','os'], 'select': 'app', 'agg': 'cumcount'},\n",
        "    {'groupby': ['ip'], 'select': 'app', 'agg': 'cumcount'},\n",
        "    {'groupby': ['ip'], 'select': 'os', 'agg': 'cumcount'},\n",
        "    {'groupby': ['ip','day','channel'], 'select': 'hour', 'agg': 'var'}\n",
        "]\n",
        "\n",
        "# Apply all the groupby transformations\n",
        "for spec in GROUPBY_AGGREGATIONS:\n",
        "\n",
        "    # Name of the aggregation we're applying\n",
        "    agg_name = spec['agg_name'] if 'agg_name' in spec else spec['agg']\n",
        "\n",
        "    # Name of new feature\n",
        "    new_feature = '{}_{}_{}'.format('_'.join(spec['groupby']), agg_name, spec['select'])\n",
        "\n",
        "    # Info\n",
        "    print(\"Grouping by {}, and aggregating {} with {}\".format(\n",
        "        spec['groupby'], spec['select'], agg_name\n",
        "    ))\n",
        "\n",
        "    # Unique list of features to select\n",
        "    all_features = list(set(spec['groupby'] + [spec['select']]))\n",
        "\n",
        "    # Perform the groupby\n",
        "    gp = X_train[all_features]. \\\n",
        "        groupby(spec['groupby'])[spec['select']]. \\\n",
        "        agg(spec['agg']). \\\n",
        "        reset_index(). \\\n",
        "        rename(index=str, columns={spec['select']: new_feature})\n",
        "\n",
        "    # Merge back to X_total\n",
        "    if 'cumcount' == spec['agg']:\n",
        "        X_train[new_feature] = gp[0].values\n",
        "    else:\n",
        "        X_train = X_train.merge(gp, on=spec['groupby'], how='left')\n",
        "\n",
        "     # Clear memory\n",
        "    del gp\n",
        "    gc.collect()\n",
        "\n",
        "X_train.head()"
      ],
      "metadata": {
        "_cell_guid": "348678d3-d94a-4522-8584-b9a3846f451c",
        "_uuid": "8c33e48891e76acc9ca7150baf554b34721c83cd",
        "execution": {
          "iopub.status.busy": "2023-12-22T00:52:56.562687Z",
          "iopub.execute_input": "2023-12-22T00:52:56.563271Z",
          "iopub.status.idle": "2023-12-22T00:53:26.392864Z",
          "shell.execute_reply.started": "2023-12-22T00:52:56.563203Z",
          "shell.execute_reply": "2023-12-22T00:53:26.391782Z"
        },
        "trusted": true,
        "id": "9S8kkC5uOc9f",
        "outputId": "158e63d8-4d8e-4869-83c8-64ec6ef19cf6"
      },
      "execution_count": null,
      "outputs": [
        {
          "name": "stdout",
          "text": "Grouping by ['ip', 'app', 'channel'], and aggregating day with var\nGrouping by ['ip', 'app', 'os'], and aggregating hour with var\nGrouping by ['ip', 'day', 'channel'], and aggregating hour with var\nGrouping by ['ip', 'day', 'hour'], and aggregating channel with count\nGrouping by ['ip', 'app'], and aggregating channel with count\nGrouping by ['ip', 'app', 'os'], and aggregating channel with count\nGrouping by ['ip', 'app', 'day', 'hour'], and aggregating channel with count\nGrouping by ['ip', 'app', 'channel'], and aggregating hour with mean\nGrouping by ['app'], and aggregating ip with AvgViewPerDistinct\nGrouping by ['app'], and aggregating channel with count\nGrouping by ['channel'], and aggregating app with count\nGrouping by ['ip'], and aggregating channel with nunique\nGrouping by ['ip'], and aggregating app with nunique\nGrouping by ['ip', 'day'], and aggregating hour with nunique\nGrouping by ['ip', 'app'], and aggregating os with nunique\nGrouping by ['ip'], and aggregating device with nunique\nGrouping by ['app'], and aggregating channel with nunique\nGrouping by ['ip', 'device', 'os'], and aggregating app with nunique\nGrouping by ['ip', 'device', 'os'], and aggregating app with cumcount\nGrouping by ['ip'], and aggregating app with cumcount\nGrouping by ['ip'], and aggregating os with cumcount\nGrouping by ['ip', 'day', 'channel'], and aggregating hour with var\n",
          "output_type": "stream"
        },
        {
          "execution_count": 4,
          "output_type": "execute_result",
          "data": {
            "text/plain": "       ip  app  device  os  channel          click_time attributed_time  \\\n0   83230    3       1  13      379 2017-11-06 14:32:21             NaN   \n1   17357    3       1  19      379 2017-11-06 14:33:34             NaN   \n2   35810    3       1  13      379 2017-11-06 14:34:12             NaN   \n3   45745   14       1  13      478 2017-11-06 14:34:52             NaN   \n4  161007    3       1  13      379 2017-11-06 14:35:08             NaN   \n\n   is_attributed  day  hour            ...              ip_nunique_app  \\\n0              0    6    14            ...                          19   \n1              0    6    14            ...                          20   \n2              0    6    14            ...                          17   \n3              0    6    14            ...                          31   \n4              0    6    14            ...                           1   \n\n   ip_day_nunique_hour  ip_app_nunique_os  ip_nunique_device  \\\n0                    2                  5                  1   \n1                    3                  8                  1   \n2                    2                  6                  3   \n3                    2                 18                  6   \n4                    1                  1                  1   \n\n   app_nunique_channel  ip_device_os_nunique_app  ip_device_os_cumcount_app  \\\n0                   34                        16                          0   \n1                   34                        11                          0   \n2                   34                        10                          0   \n3                   26                        24                          0   \n4                   34                         1                          0   \n\n   ip_cumcount_app  ip_cumcount_os  ip_day_channel_var_hour_y  \n0                0               0                   1.333333  \n1                0               0                   1.000000  \n2                0               0                   2.000000  \n3                0               0                   1.000000  \n4                0               0                        NaN  \n\n[5 rows x 45 columns]",
            "text/html": "<div>\n<style scoped>\n    .dataframe tbody tr th:only-of-type {\n        vertical-align: middle;\n    }\n\n    .dataframe tbody tr th {\n        vertical-align: top;\n    }\n\n    .dataframe thead th {\n        text-align: right;\n    }\n</style>\n<table border=\"1\" class=\"dataframe\">\n  <thead>\n    <tr style=\"text-align: right;\">\n      <th></th>\n      <th>ip</th>\n      <th>app</th>\n      <th>device</th>\n      <th>os</th>\n      <th>channel</th>\n      <th>click_time</th>\n      <th>attributed_time</th>\n      <th>is_attributed</th>\n      <th>day</th>\n      <th>hour</th>\n      <th>...</th>\n      <th>ip_nunique_app</th>\n      <th>ip_day_nunique_hour</th>\n      <th>ip_app_nunique_os</th>\n      <th>ip_nunique_device</th>\n      <th>app_nunique_channel</th>\n      <th>ip_device_os_nunique_app</th>\n      <th>ip_device_os_cumcount_app</th>\n      <th>ip_cumcount_app</th>\n      <th>ip_cumcount_os</th>\n      <th>ip_day_channel_var_hour_y</th>\n    </tr>\n  </thead>\n  <tbody>\n    <tr>\n      <th>0</th>\n      <td>83230</td>\n      <td>3</td>\n      <td>1</td>\n      <td>13</td>\n      <td>379</td>\n      <td>2017-11-06 14:32:21</td>\n      <td>NaN</td>\n      <td>0</td>\n      <td>6</td>\n      <td>14</td>\n      <td>...</td>\n      <td>19</td>\n      <td>2</td>\n      <td>5</td>\n      <td>1</td>\n      <td>34</td>\n      <td>16</td>\n      <td>0</td>\n      <td>0</td>\n      <td>0</td>\n      <td>1.333333</td>\n    </tr>\n    <tr>\n      <th>1</th>\n      <td>17357</td>\n      <td>3</td>\n      <td>1</td>\n      <td>19</td>\n      <td>379</td>\n      <td>2017-11-06 14:33:34</td>\n      <td>NaN</td>\n      <td>0</td>\n      <td>6</td>\n      <td>14</td>\n      <td>...</td>\n      <td>20</td>\n      <td>3</td>\n      <td>8</td>\n      <td>1</td>\n      <td>34</td>\n      <td>11</td>\n      <td>0</td>\n      <td>0</td>\n      <td>0</td>\n      <td>1.000000</td>\n    </tr>\n    <tr>\n      <th>2</th>\n      <td>35810</td>\n      <td>3</td>\n      <td>1</td>\n      <td>13</td>\n      <td>379</td>\n      <td>2017-11-06 14:34:12</td>\n      <td>NaN</td>\n      <td>0</td>\n      <td>6</td>\n      <td>14</td>\n      <td>...</td>\n      <td>17</td>\n      <td>2</td>\n      <td>6</td>\n      <td>3</td>\n      <td>34</td>\n      <td>10</td>\n      <td>0</td>\n      <td>0</td>\n      <td>0</td>\n      <td>2.000000</td>\n    </tr>\n    <tr>\n      <th>3</th>\n      <td>45745</td>\n      <td>14</td>\n      <td>1</td>\n      <td>13</td>\n      <td>478</td>\n      <td>2017-11-06 14:34:52</td>\n      <td>NaN</td>\n      <td>0</td>\n      <td>6</td>\n      <td>14</td>\n      <td>...</td>\n      <td>31</td>\n      <td>2</td>\n      <td>18</td>\n      <td>6</td>\n      <td>26</td>\n      <td>24</td>\n      <td>0</td>\n      <td>0</td>\n      <td>0</td>\n      <td>1.000000</td>\n    </tr>\n    <tr>\n      <th>4</th>\n      <td>161007</td>\n      <td>3</td>\n      <td>1</td>\n      <td>13</td>\n      <td>379</td>\n      <td>2017-11-06 14:35:08</td>\n      <td>NaN</td>\n      <td>0</td>\n      <td>6</td>\n      <td>14</td>\n      <td>...</td>\n      <td>1</td>\n      <td>1</td>\n      <td>1</td>\n      <td>1</td>\n      <td>34</td>\n      <td>1</td>\n      <td>0</td>\n      <td>0</td>\n      <td>0</td>\n      <td>NaN</td>\n    </tr>\n  </tbody>\n</table>\n<p>5 rows × 45 columns</p>\n</div>"
          },
          "metadata": {}
        }
      ]
    },
    {
      "cell_type": "markdown",
      "source": [
        "# 2.4. Time till next click\n",
        "It might be interesting to know e.g. how long it takes for a given ip-app-channel before they perform the next click."
      ],
      "metadata": {
        "_cell_guid": "2f564e60-73db-4bdd-9dcf-810663b825b2",
        "_uuid": "2fb40a82c20b602bf63a8577249a98b63962130a",
        "id": "8Fi1W0ipOc9f"
      }
    },
    {
      "cell_type": "code",
      "source": [
        "GROUP_BY_NEXT_CLICKS = [\n",
        "\n",
        "    # V1\n",
        "    {'groupby': ['ip']},\n",
        "    {'groupby': ['ip', 'app']},\n",
        "    {'groupby': ['ip', 'channel']},\n",
        "    {'groupby': ['ip', 'os']},\n",
        "\n",
        "    # V3\n",
        "    {'groupby': ['ip', 'app', 'device', 'os', 'channel']},\n",
        "    {'groupby': ['ip', 'os', 'device']},\n",
        "    {'groupby': ['ip', 'os', 'device', 'app']}\n",
        "]\n",
        "\n",
        "# Calculate the time to next click for each group\n",
        "for spec in GROUP_BY_NEXT_CLICKS:\n",
        "\n",
        "    # Name of new feature\n",
        "    new_feature = '{}_nextClick'.format('_'.join(spec['groupby']))\n",
        "\n",
        "    # Unique list of features to select\n",
        "    all_features = spec['groupby'] + ['click_time']\n",
        "\n",
        "    # Run calculation\n",
        "    print(f\">> Grouping by {spec['groupby']}, and saving time to next click in: {new_feature}\")\n",
        "    X_train[new_feature] = X_train[all_features].groupby(spec['groupby']).click_time.transform(lambda x: x.diff().shift(-1)).dt.seconds\n",
        "\n",
        "X_train.head()"
      ],
      "metadata": {
        "_cell_guid": "4b9d12f4-58de-47ba-b747-1bf1c3fb0ff8",
        "_uuid": "5aea1d66c89c4677e21f7bf64f837216b5c2b242",
        "execution": {
          "iopub.status.busy": "2023-12-22T00:53:26.394396Z",
          "iopub.execute_input": "2023-12-22T00:53:26.394646Z",
          "iopub.status.idle": "2023-12-22T01:09:57.949222Z",
          "shell.execute_reply.started": "2023-12-22T00:53:26.394611Z",
          "shell.execute_reply": "2023-12-22T01:09:57.948434Z"
        },
        "trusted": true,
        "id": "fXMid8zUOc9f",
        "outputId": "8cdf14bd-4437-4574-c114-939b8ae1c5b1"
      },
      "execution_count": null,
      "outputs": [
        {
          "name": "stdout",
          "text": ">> Grouping by ['ip'], and saving time to next click in: ip_nextClick\n>> Grouping by ['ip', 'app'], and saving time to next click in: ip_app_nextClick\n>> Grouping by ['ip', 'channel'], and saving time to next click in: ip_channel_nextClick\n>> Grouping by ['ip', 'os'], and saving time to next click in: ip_os_nextClick\n>> Grouping by ['ip', 'app', 'device', 'os', 'channel'], and saving time to next click in: ip_app_device_os_channel_nextClick\n>> Grouping by ['ip', 'os', 'device'], and saving time to next click in: ip_os_device_nextClick\n>> Grouping by ['ip', 'os', 'device', 'app'], and saving time to next click in: ip_os_device_app_nextClick\n",
          "output_type": "stream"
        },
        {
          "execution_count": 5,
          "output_type": "execute_result",
          "data": {
            "text/plain": "       ip  app  device  os  channel          click_time attributed_time  \\\n0   83230    3       1  13      379 2017-11-06 14:32:21             NaN   \n1   17357    3       1  19      379 2017-11-06 14:33:34             NaN   \n2   35810    3       1  13      379 2017-11-06 14:34:12             NaN   \n3   45745   14       1  13      478 2017-11-06 14:34:52             NaN   \n4  161007    3       1  13      379 2017-11-06 14:35:08             NaN   \n\n   is_attributed  day  hour             ...              ip_cumcount_app  \\\n0              0    6    14             ...                            0   \n1              0    6    14             ...                            0   \n2              0    6    14             ...                            0   \n3              0    6    14             ...                            0   \n4              0    6    14             ...                            0   \n\n   ip_cumcount_os  ip_day_channel_var_hour_y  ip_nextClick  ip_app_nextClick  \\\n0               0                   1.333333        5290.0            5340.0   \n1               0                   1.000000        5177.0            5177.0   \n2               0                   2.000000        5175.0            5175.0   \n3               0                   1.000000        5108.0            5110.0   \n4               0                        NaN           NaN               NaN   \n\n   ip_channel_nextClick  ip_os_nextClick  ip_app_device_os_channel_nextClick  \\\n0                5444.0           5307.0                                 NaN   \n1                5177.0           5239.0                                 NaN   \n2                6005.0           5205.0                                 NaN   \n3                5137.0           5108.0                                 NaN   \n4                   NaN              NaN                                 NaN   \n\n   ip_os_device_nextClick  ip_os_device_app_nextClick  \n0                  5307.0                      5340.0  \n1                  5239.0                      5547.0  \n2                  5205.0                      5925.0  \n3                  5108.0                      5110.0  \n4                     NaN                         NaN  \n\n[5 rows x 52 columns]",
            "text/html": "<div>\n<style scoped>\n    .dataframe tbody tr th:only-of-type {\n        vertical-align: middle;\n    }\n\n    .dataframe tbody tr th {\n        vertical-align: top;\n    }\n\n    .dataframe thead th {\n        text-align: right;\n    }\n</style>\n<table border=\"1\" class=\"dataframe\">\n  <thead>\n    <tr style=\"text-align: right;\">\n      <th></th>\n      <th>ip</th>\n      <th>app</th>\n      <th>device</th>\n      <th>os</th>\n      <th>channel</th>\n      <th>click_time</th>\n      <th>attributed_time</th>\n      <th>is_attributed</th>\n      <th>day</th>\n      <th>hour</th>\n      <th>...</th>\n      <th>ip_cumcount_app</th>\n      <th>ip_cumcount_os</th>\n      <th>ip_day_channel_var_hour_y</th>\n      <th>ip_nextClick</th>\n      <th>ip_app_nextClick</th>\n      <th>ip_channel_nextClick</th>\n      <th>ip_os_nextClick</th>\n      <th>ip_app_device_os_channel_nextClick</th>\n      <th>ip_os_device_nextClick</th>\n      <th>ip_os_device_app_nextClick</th>\n    </tr>\n  </thead>\n  <tbody>\n    <tr>\n      <th>0</th>\n      <td>83230</td>\n      <td>3</td>\n      <td>1</td>\n      <td>13</td>\n      <td>379</td>\n      <td>2017-11-06 14:32:21</td>\n      <td>NaN</td>\n      <td>0</td>\n      <td>6</td>\n      <td>14</td>\n      <td>...</td>\n      <td>0</td>\n      <td>0</td>\n      <td>1.333333</td>\n      <td>5290.0</td>\n      <td>5340.0</td>\n      <td>5444.0</td>\n      <td>5307.0</td>\n      <td>NaN</td>\n      <td>5307.0</td>\n      <td>5340.0</td>\n    </tr>\n    <tr>\n      <th>1</th>\n      <td>17357</td>\n      <td>3</td>\n      <td>1</td>\n      <td>19</td>\n      <td>379</td>\n      <td>2017-11-06 14:33:34</td>\n      <td>NaN</td>\n      <td>0</td>\n      <td>6</td>\n      <td>14</td>\n      <td>...</td>\n      <td>0</td>\n      <td>0</td>\n      <td>1.000000</td>\n      <td>5177.0</td>\n      <td>5177.0</td>\n      <td>5177.0</td>\n      <td>5239.0</td>\n      <td>NaN</td>\n      <td>5239.0</td>\n      <td>5547.0</td>\n    </tr>\n    <tr>\n      <th>2</th>\n      <td>35810</td>\n      <td>3</td>\n      <td>1</td>\n      <td>13</td>\n      <td>379</td>\n      <td>2017-11-06 14:34:12</td>\n      <td>NaN</td>\n      <td>0</td>\n      <td>6</td>\n      <td>14</td>\n      <td>...</td>\n      <td>0</td>\n      <td>0</td>\n      <td>2.000000</td>\n      <td>5175.0</td>\n      <td>5175.0</td>\n      <td>6005.0</td>\n      <td>5205.0</td>\n      <td>NaN</td>\n      <td>5205.0</td>\n      <td>5925.0</td>\n    </tr>\n    <tr>\n      <th>3</th>\n      <td>45745</td>\n      <td>14</td>\n      <td>1</td>\n      <td>13</td>\n      <td>478</td>\n      <td>2017-11-06 14:34:52</td>\n      <td>NaN</td>\n      <td>0</td>\n      <td>6</td>\n      <td>14</td>\n      <td>...</td>\n      <td>0</td>\n      <td>0</td>\n      <td>1.000000</td>\n      <td>5108.0</td>\n      <td>5110.0</td>\n      <td>5137.0</td>\n      <td>5108.0</td>\n      <td>NaN</td>\n      <td>5108.0</td>\n      <td>5110.0</td>\n    </tr>\n    <tr>\n      <th>4</th>\n      <td>161007</td>\n      <td>3</td>\n      <td>1</td>\n      <td>13</td>\n      <td>379</td>\n      <td>2017-11-06 14:35:08</td>\n      <td>NaN</td>\n      <td>0</td>\n      <td>6</td>\n      <td>14</td>\n      <td>...</td>\n      <td>0</td>\n      <td>0</td>\n      <td>NaN</td>\n      <td>NaN</td>\n      <td>NaN</td>\n      <td>NaN</td>\n      <td>NaN</td>\n      <td>NaN</td>\n      <td>NaN</td>\n      <td>NaN</td>\n    </tr>\n  </tbody>\n</table>\n<p>5 rows × 52 columns</p>\n</div>"
          },
          "metadata": {}
        }
      ]
    },
    {
      "cell_type": "markdown",
      "source": [
        "## 2.5. Clicks on app ad before & after\n",
        "Has the user previously or subsequently clicked the exact same app-device-os-channel?"
      ],
      "metadata": {
        "_cell_guid": "96798009-4e63-4562-8b17-56040957afc0",
        "_uuid": "502791e0009fb80c319e0440f91eb8ec812713b9",
        "id": "R3068FDFOc9f"
      }
    },
    {
      "cell_type": "code",
      "source": [
        "HISTORY_CLICKS = {\n",
        "    'identical_clicks': ['ip', 'app', 'device', 'os', 'channel'],\n",
        "    'app_clicks': ['ip', 'app']\n",
        "}\n",
        "\n",
        "# Go through different group-by combinations\n",
        "for fname, fset in HISTORY_CLICKS.items():\n",
        "\n",
        "    # Clicks in the past\n",
        "    X_train['prev_'+fname] = X_train. \\\n",
        "        groupby(fset). \\\n",
        "        cumcount(). \\\n",
        "        rename('prev_'+fname)\n",
        "\n",
        "    # Clicks in the future\n",
        "    X_train['future_'+fname] = X_train.iloc[::-1]. \\\n",
        "        groupby(fset). \\\n",
        "        cumcount(). \\\n",
        "        rename('future_'+fname).iloc[::-1]\n",
        "\n",
        "# Count cumulative subsequent clicks\n",
        "X_train.head()"
      ],
      "metadata": {
        "_cell_guid": "01301983-6588-4c93-86f2-524d00d3849d",
        "_uuid": "d039ac65ce0fb010baf93939245d55dd40b55761",
        "execution": {
          "iopub.status.busy": "2023-12-22T01:09:57.950948Z",
          "iopub.execute_input": "2023-12-22T01:09:57.951356Z",
          "iopub.status.idle": "2023-12-22T01:10:01.920999Z",
          "shell.execute_reply.started": "2023-12-22T01:09:57.951293Z",
          "shell.execute_reply": "2023-12-22T01:10:01.920259Z"
        },
        "trusted": true,
        "id": "KrVf69m1Oc9f",
        "outputId": "fa3af8fb-ee46-4d97-e5e7-6249a593ad28"
      },
      "execution_count": null,
      "outputs": [
        {
          "execution_count": 6,
          "output_type": "execute_result",
          "data": {
            "text/plain": "       ip  app  device  os  channel          click_time attributed_time  \\\n0   83230    3       1  13      379 2017-11-06 14:32:21             NaN   \n1   17357    3       1  19      379 2017-11-06 14:33:34             NaN   \n2   35810    3       1  13      379 2017-11-06 14:34:12             NaN   \n3   45745   14       1  13      478 2017-11-06 14:34:52             NaN   \n4  161007    3       1  13      379 2017-11-06 14:35:08             NaN   \n\n   is_attributed  day  hour        ...          ip_app_nextClick  \\\n0              0    6    14        ...                    5340.0   \n1              0    6    14        ...                    5177.0   \n2              0    6    14        ...                    5175.0   \n3              0    6    14        ...                    5110.0   \n4              0    6    14        ...                       NaN   \n\n   ip_channel_nextClick  ip_os_nextClick  ip_app_device_os_channel_nextClick  \\\n0                5444.0           5307.0                                 NaN   \n1                5177.0           5239.0                                 NaN   \n2                6005.0           5205.0                                 NaN   \n3                5137.0           5108.0                                 NaN   \n4                   NaN              NaN                                 NaN   \n\n   ip_os_device_nextClick  ip_os_device_app_nextClick  prev_identical_clicks  \\\n0                  5307.0                      5340.0                      0   \n1                  5239.0                      5547.0                      0   \n2                  5205.0                      5925.0                      0   \n3                  5108.0                      5110.0                      0   \n4                     NaN                         NaN                      0   \n\n   future_identical_clicks  prev_app_clicks  future_app_clicks  \n0                        0                0                 18  \n1                        0                0                 22  \n2                        0                0                  9  \n3                        0                0                 68  \n4                        0                0                  0  \n\n[5 rows x 56 columns]",
            "text/html": "<div>\n<style scoped>\n    .dataframe tbody tr th:only-of-type {\n        vertical-align: middle;\n    }\n\n    .dataframe tbody tr th {\n        vertical-align: top;\n    }\n\n    .dataframe thead th {\n        text-align: right;\n    }\n</style>\n<table border=\"1\" class=\"dataframe\">\n  <thead>\n    <tr style=\"text-align: right;\">\n      <th></th>\n      <th>ip</th>\n      <th>app</th>\n      <th>device</th>\n      <th>os</th>\n      <th>channel</th>\n      <th>click_time</th>\n      <th>attributed_time</th>\n      <th>is_attributed</th>\n      <th>day</th>\n      <th>hour</th>\n      <th>...</th>\n      <th>ip_app_nextClick</th>\n      <th>ip_channel_nextClick</th>\n      <th>ip_os_nextClick</th>\n      <th>ip_app_device_os_channel_nextClick</th>\n      <th>ip_os_device_nextClick</th>\n      <th>ip_os_device_app_nextClick</th>\n      <th>prev_identical_clicks</th>\n      <th>future_identical_clicks</th>\n      <th>prev_app_clicks</th>\n      <th>future_app_clicks</th>\n    </tr>\n  </thead>\n  <tbody>\n    <tr>\n      <th>0</th>\n      <td>83230</td>\n      <td>3</td>\n      <td>1</td>\n      <td>13</td>\n      <td>379</td>\n      <td>2017-11-06 14:32:21</td>\n      <td>NaN</td>\n      <td>0</td>\n      <td>6</td>\n      <td>14</td>\n      <td>...</td>\n      <td>5340.0</td>\n      <td>5444.0</td>\n      <td>5307.0</td>\n      <td>NaN</td>\n      <td>5307.0</td>\n      <td>5340.0</td>\n      <td>0</td>\n      <td>0</td>\n      <td>0</td>\n      <td>18</td>\n    </tr>\n    <tr>\n      <th>1</th>\n      <td>17357</td>\n      <td>3</td>\n      <td>1</td>\n      <td>19</td>\n      <td>379</td>\n      <td>2017-11-06 14:33:34</td>\n      <td>NaN</td>\n      <td>0</td>\n      <td>6</td>\n      <td>14</td>\n      <td>...</td>\n      <td>5177.0</td>\n      <td>5177.0</td>\n      <td>5239.0</td>\n      <td>NaN</td>\n      <td>5239.0</td>\n      <td>5547.0</td>\n      <td>0</td>\n      <td>0</td>\n      <td>0</td>\n      <td>22</td>\n    </tr>\n    <tr>\n      <th>2</th>\n      <td>35810</td>\n      <td>3</td>\n      <td>1</td>\n      <td>13</td>\n      <td>379</td>\n      <td>2017-11-06 14:34:12</td>\n      <td>NaN</td>\n      <td>0</td>\n      <td>6</td>\n      <td>14</td>\n      <td>...</td>\n      <td>5175.0</td>\n      <td>6005.0</td>\n      <td>5205.0</td>\n      <td>NaN</td>\n      <td>5205.0</td>\n      <td>5925.0</td>\n      <td>0</td>\n      <td>0</td>\n      <td>0</td>\n      <td>9</td>\n    </tr>\n    <tr>\n      <th>3</th>\n      <td>45745</td>\n      <td>14</td>\n      <td>1</td>\n      <td>13</td>\n      <td>478</td>\n      <td>2017-11-06 14:34:52</td>\n      <td>NaN</td>\n      <td>0</td>\n      <td>6</td>\n      <td>14</td>\n      <td>...</td>\n      <td>5110.0</td>\n      <td>5137.0</td>\n      <td>5108.0</td>\n      <td>NaN</td>\n      <td>5108.0</td>\n      <td>5110.0</td>\n      <td>0</td>\n      <td>0</td>\n      <td>0</td>\n      <td>68</td>\n    </tr>\n    <tr>\n      <th>4</th>\n      <td>161007</td>\n      <td>3</td>\n      <td>1</td>\n      <td>13</td>\n      <td>379</td>\n      <td>2017-11-06 14:35:08</td>\n      <td>NaN</td>\n      <td>0</td>\n      <td>6</td>\n      <td>14</td>\n      <td>...</td>\n      <td>NaN</td>\n      <td>NaN</td>\n      <td>NaN</td>\n      <td>NaN</td>\n      <td>NaN</td>\n      <td>NaN</td>\n      <td>0</td>\n      <td>0</td>\n      <td>0</td>\n      <td>0</td>\n    </tr>\n  </tbody>\n</table>\n<p>5 rows × 56 columns</p>\n</div>"
          },
          "metadata": {}
        }
      ]
    },
    {
      "cell_type": "markdown",
      "source": [
        "# 3. Evaluating Feature Importance\n",
        "Having created heaps of features, I'll fit xgBoost to the data, and evaluate the feature importances. First split into X and y"
      ],
      "metadata": {
        "_cell_guid": "86a119dd-8c69-443e-b64f-22c54fa64b8c",
        "_uuid": "f6dbcbc687ffed55ef994e13a0db9d9f1ef505c7",
        "id": "D-z4TEaqOc9g"
      }
    },
    {
      "cell_type": "code",
      "source": [
        "import xgboost as xgb\n",
        "\n",
        "# Split into X and y\n",
        "y = X_train['is_attributed']\n",
        "X = X_train.drop('is_attributed', axis=1).select_dtypes(include=[np.number])\n",
        "\n",
        "# Create a model\n",
        "# Params from: https://www.kaggle.com/aharless/swetha-s-xgboost-revised\n",
        "clf_xgBoost = xgb.XGBClassifier(\n",
        "    max_depth = 4,\n",
        "    subsample = 0.8,\n",
        "    colsample_bytree = 0.7,\n",
        "    colsample_bylevel = 0.7,\n",
        "    scale_pos_weight = 9,\n",
        "    min_child_weight = 0,\n",
        "    reg_alpha = 4,\n",
        "    n_jobs = 4,\n",
        "    objective = 'binary:logistic'\n",
        ")\n",
        "# Fit the models\n",
        "clf_xgBoost.fit(X, y)"
      ],
      "metadata": {
        "_cell_guid": "fc901735-9c9c-4251-a678-b1ea1d2d5bfa",
        "_uuid": "a295f37e16ff0b6b1b197fd92ab0e8ff381305d2",
        "execution": {
          "iopub.status.busy": "2023-12-22T01:10:01.921992Z",
          "iopub.execute_input": "2023-12-22T01:10:01.922447Z",
          "iopub.status.idle": "2023-12-22T01:11:30.508322Z",
          "shell.execute_reply.started": "2023-12-22T01:10:01.922400Z",
          "shell.execute_reply": "2023-12-22T01:11:30.507501Z"
        },
        "trusted": true,
        "id": "6cXR6lN-Oc9g",
        "outputId": "67ec9db1-bd34-4af3-96b6-cb3c2bbcfeae"
      },
      "execution_count": null,
      "outputs": [
        {
          "execution_count": 7,
          "output_type": "execute_result",
          "data": {
            "text/plain": "XGBClassifier(base_score=0.5, booster='gbtree', colsample_bylevel=0.7,\n       colsample_bytree=0.7, gamma=0, learning_rate=0.1, max_delta_step=0,\n       max_depth=4, min_child_weight=0, missing=None, n_estimators=100,\n       n_jobs=4, nthread=None, objective='binary:logistic', random_state=0,\n       reg_alpha=4, reg_lambda=1, scale_pos_weight=9, seed=None,\n       silent=True, subsample=0.8)"
          },
          "metadata": {}
        }
      ]
    },
    {
      "cell_type": "markdown",
      "source": [
        "The feature importances are MinMax scaled, put into a DataFrame, and finally plotted ordered by the mean feature importance."
      ],
      "metadata": {
        "_cell_guid": "47527a6b-710e-40ca-902f-cd9358f1a09c",
        "_uuid": "8f88190cfe9161f84d211b2387832a6b9d692ff2",
        "id": "57afD3A6Oc9g"
      }
    },
    {
      "cell_type": "code",
      "source": [
        "from sklearn import preprocessing\n",
        "\n",
        "# Get xgBoost importances\n",
        "importance_dict = {}\n",
        "for import_type in ['weight', 'gain', 'cover']:\n",
        "    importance_dict['xgBoost-'+import_type] = clf_xgBoost.get_booster().get_score(importance_type=import_type)\n",
        "\n",
        "# MinMax scale all importances\n",
        "importance_df = pd.DataFrame(importance_dict).fillna(0)\n",
        "importance_df = pd.DataFrame(\n",
        "    preprocessing.MinMaxScaler().fit_transform(importance_df),\n",
        "    columns=importance_df.columns,\n",
        "    index=importance_df.index\n",
        ")\n",
        "\n",
        "# Create mean column\n",
        "importance_df['mean'] = importance_df.mean(axis=1)\n",
        "\n",
        "# Plot the feature importances\n",
        "importance_df.sort_values('mean').plot(kind='bar', figsize=(20, 7))"
      ],
      "metadata": {
        "_cell_guid": "bd5df2f2-6351-4b11-8589-05e93b4a64c5",
        "_uuid": "509683962f22f399bb8b437316d23ce959629da6",
        "execution": {
          "iopub.status.busy": "2023-12-22T01:11:30.512058Z",
          "iopub.execute_input": "2023-12-22T01:11:30.512378Z",
          "iopub.status.idle": "2023-12-22T01:11:31.485847Z",
          "shell.execute_reply.started": "2023-12-22T01:11:30.512330Z",
          "shell.execute_reply": "2023-12-22T01:11:31.484938Z"
        },
        "trusted": true,
        "id": "0f5gm_aKOc9g",
        "outputId": "980243b3-aef3-4335-e009-278a75fb99a8"
      },
      "execution_count": null,
      "outputs": [
        {
          "execution_count": 8,
          "output_type": "execute_result",
          "data": {
            "text/plain": "<matplotlib.axes._subplots.AxesSubplot at 0x7d05166771d0>"
          },
          "metadata": {}
        },
        {
          "output_type": "display_data",
          "data": {
            "text/plain": "<matplotlib.figure.Figure at 0x7d0516669e80>",
            "image/png": "[encoded data removed]"
          },
          "metadata": {}
        }
      ]
    },
    {
      "cell_type": "code",
      "source": [],
      "metadata": {
        "_cell_guid": "9b19f5b7-126d-45bd-ad07-ea84a8542ffb",
        "_uuid": "3df1907a137ecde7d4160ce7ae77428fa3e853e1",
        "collapsed": true,
        "jupyter": {
          "outputs_hidden": true
        },
        "id": "9c8hDrHEOc9g"
      },
      "execution_count": null,
      "outputs": []
    }
  ]
}